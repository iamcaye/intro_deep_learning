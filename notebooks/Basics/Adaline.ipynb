{
 "cells": [
  {
   "cell_type": "code",
   "execution_count": 64,
   "id": "dccfacc4",
   "metadata": {},
   "outputs": [],
   "source": [
    "import numpy as np\n",
    "import pandas as pd\n",
    "import matplotlib.pyplot as plt"
   ]
  },
  {
   "cell_type": "code",
   "execution_count": 65,
   "id": "ea7f4bf8",
   "metadata": {},
   "outputs": [
    {
     "data": {
      "text/plain": [
       "(100,)"
      ]
     },
     "execution_count": 65,
     "metadata": {},
     "output_type": "execute_result"
    }
   ],
   "source": [
    "s = \"https://archive.ics.uci.edu/ml/machine-learning-databases/iris/iris.data\"\n",
    "df = pd.read_csv(s, header=None, encoding='utf-8')\n",
    "y = np.where(df.iloc[0:100, 4].values == 'Iris-setosa', 0, 1)\n",
    "X = df.iloc[0:100, [0,2]].values\n",
    "\n",
    "y.shape"
   ]
  },
  {
   "cell_type": "code",
   "execution_count": 93,
   "id": "8b6264f7",
   "metadata": {},
   "outputs": [],
   "source": [
    "class Adaline:\n",
    "  def __init__(self, lr=0.1, N=50, rstate=1):\n",
    "    self.lr = lr\n",
    "    self.N = N\n",
    "    self.rstate = rstate\n",
    "    \n",
    "\n",
    "    \n",
    "  def fit(self, X, y):\n",
    "    rgen = np.random.RandomState(self.rstate)\n",
    "    self.W = rgen.normal(loc=0.0, scale=0.01, size=X.shape[1])\n",
    "    \n",
    "    self.b = np.float_(0.)\n",
    "    self.losses = []\n",
    "    print(self.W)\n",
    "    for i in range(self.N):\n",
    "      # Here goes activation if needed\n",
    "      output = self.activation(self.forward(X))\n",
    "      errors = (y - output)\n",
    "      self.W += self.lr * 2.0 * X.T.dot(errors) / X.shape[0] # weights update\n",
    "      self.b += self.lr * 2.0 * errors.mean() # bias update\n",
    "      self.losses.append((errors**2).mean()) # log erros\n",
    "\n",
    "    print(self.W)\n",
    "    return self\n",
    "      \n",
    "  def predict(self, X):\n",
    "    return np.where(self.forward(X) > 0.5, 1, 0)\n",
    "  \n",
    "  def forward(self, X):\n",
    "    return np.dot(X, self.W) + self.b\n",
    "  \n",
    "  def activation(self, X):\n",
    "    return X\n",
    "      \n",
    "\n"
   ]
  },
  {
   "cell_type": "code",
   "execution_count": 94,
   "id": "1029f5ca",
   "metadata": {},
   "outputs": [
    {
     "name": "stdout",
     "output_type": "stream",
     "text": [
      "[ 0.01624345 -0.00611756]\n",
      "[-0.09340405  0.36873153]\n"
     ]
    },
    {
     "data": {
      "image/png": "[encoded data removed]",
      "text/plain": [
       "<Figure size 640x480 with 1 Axes>"
      ]
     },
     "metadata": {},
     "output_type": "display_data"
    }
   ],
   "source": [
    "\n",
    "\n",
    "from matplotlib.colors import ListedColormap\n",
    "def plot_decision_regions(X, y, classifier, resolution=0.02):\n",
    "    # setup marker generator and color map\n",
    "    markers = ('o', 's', '^', 'v', '<')\n",
    "    colors = ('red', 'blue', 'lightgreen', 'gray', 'cyan')\n",
    "    cmap = ListedColormap(colors[:len(np.unique(y))])\n",
    "    \n",
    "    # plot the decision surface\n",
    "    x1_min, x1_max = X[:, 0].min() - 1, X[:, 0].max() + 1 # Min and max values of sepal length\n",
    "    x2_min, x2_max = X[:, 1].min() - 1, X[:, 1].max() + 1 # Min and max values of petal length\n",
    "    xx1, xx2 = np.meshgrid(np.arange(x1_min, x1_max, resolution),\n",
    "                           np.arange(x2_min, x2_max, resolution)) # Grid for plotting\n",
    "    \n",
    "    lab = classifier.predict(np.array([xx1.ravel(), xx2.ravel()]).T)\n",
    "    lab = lab.reshape(xx1.shape)\n",
    "    plt.contourf(xx1, xx2, lab, alpha=0.3, cmap=cmap)\n",
    "    plt.xlim(xx1.min(), xx1.max())\n",
    "    plt.ylim(xx2.min(), xx2.max())\n",
    "    \n",
    "    # plot class examples\n",
    "    for idx, cl in enumerate(np.unique(y)):\n",
    "        plt.scatter(x=X[y == cl, 0],\n",
    "                    y=X[y == cl, 1],\n",
    "                    alpha=0.8,\n",
    "                    c=colors[idx],\n",
    "                    marker=markers[idx],\n",
    "                    label=\"Setosa\" if cl == 0 else \"Versicolor\",\n",
    "                    edgecolor='black')\n",
    "\n",
    "ad1 = Adaline(lr=0.02, N=100).fit(X,y)\n",
    "plt.plot(range(1, len(ad1.losses)+1), ad1.losses)\n",
    "plt.xlabel('Epochs')\n",
    "plt.ylabel('Log(MSE)')\n",
    "plt.show()\n",
    "\n",
    "\n"
   ]
  },
  {
   "cell_type": "code",
   "execution_count": 92,
   "id": "4f794d9b",
   "metadata": {},
   "outputs": [
    {
     "data": {
      "text/plain": [
       "array(1)"
      ]
     },
     "execution_count": 92,
     "metadata": {},
     "output_type": "execute_result"
    }
   ],
   "source": [
    "ad1.predict(X[51])"
   ]
  },
  {
   "cell_type": "code",
   "execution_count": null,
   "id": "bcfad11f",
   "metadata": {},
   "outputs": [],
   "source": []
  }
 ],
 "metadata": {
  "kernelspec": {
   "display_name": "Python 3 (ipykernel)",
   "language": "python",
   "name": "python3"
  },
  "language_info": {
   "codemirror_mode": {
    "name": "ipython",
    "version": 3
   },
   "file_extension": ".py",
   "mimetype": "text/x-python",
   "name": "python",
   "nbconvert_exporter": "python",
   "pygments_lexer": "ipython3",
   "version": "3.8.10"
  }
 },
 "nbformat": 4,
 "nbformat_minor": 5
}
